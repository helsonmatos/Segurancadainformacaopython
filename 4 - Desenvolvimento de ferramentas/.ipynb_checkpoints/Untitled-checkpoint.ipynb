{
 "cells": [
  {
   "cell_type": "code",
   "execution_count": 23,
   "id": "b0fb6675",
   "metadata": {},
   "outputs": [
    {
     "name": "stdout",
     "output_type": "stream",
     "text": [
      "<span class=\"teste\">\n",
      "Usamos cookies para personalizar a sua experiência. Ao utilizar nossos sites e serviços, você concorda com o uso de cookies por nossa parte conforme estabelecido na nossa <a href=\"https://assetslite.climatempo.com.br/termos\" target=\"_blank\">Política de privacidade</a>.\n",
      "</span>\n"
     ]
    }
   ],
   "source": [
    "from bs4 import BeautifulSoup\n",
    "import requests\n",
    "\n",
    "\n",
    "site = requests.get(\"https://www.climatempo.com.br/\").content\n",
    "# objeto site recebendo o conteudo da requisição http do site...\n",
    "soup = BeautifulSoup(site, 'html.parser')\n",
    "# objeto soup baixando do site o html\n",
    "#print(soup.prettify())\n",
    "#transforma html em string e o print vai exibir o html\n",
    "\n",
    "print(soup.div.span)"
   ]
  },
  {
   "cell_type": "code",
   "execution_count": 2,
   "id": "2372943f",
   "metadata": {},
   "outputs": [],
   "source": [
    "temperatura = soup.find(\"span\", class_='_block _margin-b-5 -gray')"
   ]
  },
  {
   "cell_type": "code",
   "execution_count": 4,
   "id": "a96d0e56",
   "metadata": {},
   "outputs": [
    {
     "name": "stdout",
     "output_type": "stream",
     "text": [
      "None\n"
     ]
    }
   ],
   "source": [
    "print(temperatura)"
   ]
  },
  {
   "cell_type": "code",
   "execution_count": null,
   "id": "dc43537a",
   "metadata": {},
   "outputs": [],
   "source": []
  }
 ],
 "metadata": {
  "kernelspec": {
   "display_name": "Python 3.9.7 64-bit ('base': conda)",
   "language": "python",
   "name": "python397jvsc74a57bd0b2e4510b7017812cdfafc63a823232b40686eff34486759b8b3cac5da40b4036"
  },
  "language_info": {
   "codemirror_mode": {
    "name": "ipython",
    "version": 3
   },
   "file_extension": ".py",
   "mimetype": "text/x-python",
   "name": "python",
   "nbconvert_exporter": "python",
   "pygments_lexer": "ipython3",
   "version": "3.9.7"
  }
 },
 "nbformat": 4,
 "nbformat_minor": 5
}
